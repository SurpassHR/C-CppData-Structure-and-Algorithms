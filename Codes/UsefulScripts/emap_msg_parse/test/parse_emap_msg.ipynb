{
 "cells": [
  {
   "cell_type": "code",
   "execution_count": null,
   "metadata": {},
   "outputs": [],
   "source": [
    "fileName = f'emap_msg.txt'\n",
    "import os\n",
    "curPath = os.getcwd()\n",
    "filePath = os.path.join(curPath, fileName)\n",
    "os.path.exists(filePath)\n",
    "filePath"
   ]
  },
  {
   "cell_type": "code",
   "execution_count": null,
   "metadata": {},
   "outputs": [],
   "source": [
    "fileLine = []\n",
    "\n",
    "LOG_FILE_NAME = 'msg_manager.cpp'\n",
    "\n",
    "with open(filePath, 'r') as f:\n",
    "    for line in f:\n",
    "        if LOG_FILE_NAME in line:\n",
    "            fileLine.append(line.strip())\n",
    "\n",
    "filterLogWithMsgMgrFileName = f'emap_msg_mgr.txt'\n",
    "filePath = os.path.join(curPath, filterLogWithMsgMgrFileName)\n",
    "\n",
    "with open(filePath, 'w') as f:\n",
    "    for line in fileLine:\n",
    "        f.write(line + '\\n')"
   ]
  },
  {
   "cell_type": "code",
   "execution_count": null,
   "metadata": {},
   "outputs": [],
   "source": [
    "with open(filePath, 'r') as f:\n",
    "    fileLine = []\n",
    "    for line in f:\n",
    "        fileLine.append(line)\n",
    "fileLine[-10:-1]"
   ]
  },
  {
   "cell_type": "code",
   "execution_count": null,
   "metadata": {},
   "outputs": [],
   "source": [
    "import re\n",
    "\n",
    "recvMsgDict = {}\n",
    "sendMsgDict = {}\n",
    "\n",
    "RECV_MSG_PREFIX = 'Recv msg'\n",
    "SEND_MSG_PREFIX = 'Send msg'\n",
    "\n",
    "#  >>([a-z|A-Z]{4} msg) \\[ \\d{2}\\]: (.*) :: (.*)\n",
    "\n",
    "pattern = r'.*?\\[(\\d{2}:\\d{2}:\\d{2}\\.\\d{3})\\]: >>([a-z|A-Z]{4} msg)\\[ \\d*?\\]: (.*) :: (.*)'\n",
    "for line in fileLine:\n",
    "    msg = re.findall(pattern=pattern, string=line)\n",
    "    if len(msg) != 0:\n",
    "        time, msgPrefix, msgHead, msgTail = msg[0]\n",
    "        if msgPrefix == RECV_MSG_PREFIX:\n",
    "            recvMsgDict[ ( RECV_MSG_PREFIX, time ) ] = [ msgHead, msgTail ]\n",
    "        elif msgPrefix == SEND_MSG_PREFIX:\n",
    "            sendMsgDict[ ( SEND_MSG_PREFIX, time ) ] = [ msgHead, msgTail ]\n",
    "        else:\n",
    "            exit(-1)\n",
    "\n",
    "recvMsgDict, sendMsgDict"
   ]
  },
  {
   "cell_type": "code",
   "execution_count": null,
   "metadata": {},
   "outputs": [],
   "source": [
    "msgNo = 1\n",
    "recvMsgItem = recvMsgDict[ ( RECV_MSG_PREFIX, '21:43:30.574' ) ]\n",
    "recvMsgItem"
   ]
  },
  {
   "cell_type": "code",
   "execution_count": null,
   "metadata": {},
   "outputs": [],
   "source": [
    "pattern = r'[\\d|A-F|a-f]{2}'\n",
    "splitMsgList = re.findall(pattern=pattern, string=recvMsgItem[0])\n",
    "srcModuleId = [ splitMsgList[0], splitMsgList[1] ]\n",
    "srcModuleId.reverse()\n",
    "\n",
    "destModuleId = [ splitMsgList[2], splitMsgList[3] ]\n",
    "destModuleId.reverse()\n",
    "\n",
    "eval('0x' + ''.join(srcModuleId)), eval('0x' + ''.join(destModuleId))"
   ]
  },
  {
   "cell_type": "code",
   "execution_count": null,
   "metadata": {},
   "outputs": [],
   "source": [
    "from datetime import datetime\n",
    "\n",
    "def convert_time_string(time_string):\n",
    "    # 定义时间字符串的格式\n",
    "    time_format = \"%H:%M:%S.%f\"\n",
    "    # 将时间字符串解析为datetime对象\n",
    "    time_obj = datetime.strptime(time_string, time_format)\n",
    "    return time_obj\n",
    "\n",
    "from typing import Dict, List, Tuple\n",
    "\n",
    "def get_time(msgDict: Dict[Tuple, List], timeRange: Tuple[ str, str ]):\n",
    "    startTime = convert_time_string(timeRange[0])\n",
    "    endTime = convert_time_string(timeRange[1])\n",
    "    timeInRangeList = []\n",
    "    msgSeqList = []\n",
    "    for msg in msgDict:\n",
    "        time = msg[1]\n",
    "        timeObj = convert_time_string(time)\n",
    "        msgItem = msgDict[msg]\n",
    "\n",
    "        pattern = r'[\\d|A-F|a-f]{2}'\n",
    "        msgHead = re.findall(pattern, msgItem[0])\n",
    "\n",
    "        srcModuleId = [ msgHead[0], msgHead[1] ]\n",
    "        destModuleId = [ msgHead[2], msgHead[3] ]\n",
    "        msgTypeId = [ msgHead[4], msgHead[5] ]\n",
    "        msgSeq = [ msgHead[6], msgHead[7] ]\n",
    "\n",
    "        srcModuleId.reverse()\n",
    "        destModuleId.reverse()\n",
    "        msgTypeId.reverse()\n",
    "        msgSeq.reverse()\n",
    "\n",
    "        srcModuleId = '0x' + ''.join(srcModuleId)\n",
    "        destModuleId = '0x' + ''.join(destModuleId)\n",
    "        msgTypeId = '0x' + ''.join(msgTypeId)\n",
    "        msgSeq = '0x' + ''.join(msgSeq)\n",
    "\n",
    "        # print(srcModuleId, destModuleId, msgTypeId)\n",
    "\n",
    "        if startTime <= timeObj < endTime:\n",
    "            timeInRangeList.append([ timeObj, \"srcModuleId:\", f\"{eval(srcModuleId):04}\", \"destModuleId:\", f\"{eval(destModuleId):04}\", \"msgTypeId:\", msgTypeId, \"msgSeq:\", msgSeq ])\n",
    "            msgSeqList.append(msgSeq)\n",
    "    return timeInRangeList, msgSeqList\n",
    "\n",
    "\n",
    "recvTimeInRangeList, recvMsgSeqList = get_time(recvMsgDict, ( '21:43:30.000', '21:44:01.000' ))\n",
    "recvTimeInRangeList"
   ]
  },
  {
   "cell_type": "code",
   "execution_count": null,
   "metadata": {},
   "outputs": [],
   "source": [
    "sendTimeInRangeList, sendMsgSeqList = get_time(sendMsgDict, ( '21:43:50.000', '21:43:59.000' ))\n",
    "sendTimeInRangeList"
   ]
  },
  {
   "cell_type": "code",
   "execution_count": null,
   "metadata": {},
   "outputs": [],
   "source": [
    "# 查找重复消息序号\n",
    "def find_duplicates(lst):\n",
    "    frequency = {}\n",
    "    duplicates = []\n",
    "\n",
    "    for item in lst:\n",
    "        if item in frequency:\n",
    "            frequency[item] += 1\n",
    "        else:\n",
    "            frequency[item] = 1\n",
    "\n",
    "    for key, value in frequency.items():\n",
    "        if value > 1:\n",
    "            duplicates.append(key)\n",
    "\n",
    "    return duplicates\n",
    "\n",
    "dup = find_duplicates(recvMsgSeqList)\n",
    "dup"
   ]
  },
  {
   "cell_type": "code",
   "execution_count": null,
   "metadata": {},
   "outputs": [],
   "source": [
    "# 按消息序号查找收发间隔\n",
    "def traversal_send_receive_interval(recvMsgList, sendMsgList):\n",
    "    for recvMsg in recvMsgList:\n",
    "        msgSeq = recvMsg[6]\n",
    "        srcModuleId = recvMsg[1]\n",
    "        destModuleId = recvMsg[2]\n",
    "        if srcModuleId == destModuleId:\n",
    "            continue\n",
    "        if msgSeq == '0x0000':\n",
    "            continue\n",
    "        time = recvMsg[0]\n",
    "        for sendMsg in sendMsgList:\n",
    "            if sendMsg[6] == msgSeq:\n",
    "                if sendMsg[0] < time:\n",
    "                    continue\n",
    "                timeInterval = sendMsg[0] - time\n",
    "                if timeInterval > convert_time_string('0:00:00.200000') - convert_time_string('0:00:00.000000'):\n",
    "                    print(recvMsg[1:], ': ', timeInterval)\n",
    "\n",
    "traversal_send_receive_interval(recvTimeInRangeList, sendTimeInRangeList)"
   ]
  },
  {
   "cell_type": "code",
   "execution_count": null,
   "metadata": {},
   "outputs": [],
   "source": []
  }
 ],
 "metadata": {
  "kernelspec": {
   "display_name": "normal",
   "language": "python",
   "name": "python3"
  },
  "language_info": {
   "codemirror_mode": {
    "name": "ipython",
    "version": 3
   },
   "file_extension": ".py",
   "mimetype": "text/x-python",
   "name": "python",
   "nbconvert_exporter": "python",
   "pygments_lexer": "ipython3",
   "version": "3.8.8"
  }
 },
 "nbformat": 4,
 "nbformat_minor": 2
}

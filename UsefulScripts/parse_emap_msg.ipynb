{
 "cells": [
  {
   "cell_type": "code",
   "execution_count": 59,
   "metadata": {},
   "outputs": [
    {
     "data": {
      "text/plain": [
       "True"
      ]
     },
     "execution_count": 59,
     "metadata": {},
     "output_type": "execute_result"
    }
   ],
   "source": [
    "fileName = f'emap_msg.txt'\n",
    "import os\n",
    "curPath = os.getcwd()\n",
    "filePath = os.path.join(curPath, fileName)\n",
    "os.path.exists(filePath)"
   ]
  },
  {
   "cell_type": "code",
   "execution_count": 60,
   "metadata": {},
   "outputs": [
    {
     "data": {
      "text/plain": [
       "['sdfsfasdas >>Send msg [ 10]: 01 00 4B 10 02 02 04 9A :: 12 34 56 78 90',\n",
       " 'asdasdasda >>Recv msg [ 10]: 01 00 4B 10 02 02 04 9A :: 12 34 56 78 90']"
      ]
     },
     "execution_count": 60,
     "metadata": {},
     "output_type": "execute_result"
    }
   ],
   "source": [
    "fileLine = []\n",
    "with open(filePath, 'r') as f:\n",
    "    for line in f:\n",
    "        fileLine.append(line.strip())\n",
    "fileLine"
   ]
  },
  {
   "cell_type": "code",
   "execution_count": 61,
   "metadata": {},
   "outputs": [
    {
     "data": {
      "text/plain": [
       "({str: list, 'Recv msg 1': ['01 00 4B 10 02 02 04 9A', '12 34 56 78 90']},\n",
       " {str: list, 'Send msg 0': ['01 00 4B 10 02 02 04 9A', '12 34 56 78 90']})"
      ]
     },
     "execution_count": 61,
     "metadata": {},
     "output_type": "execute_result"
    }
   ],
   "source": [
    "import re\n",
    "\n",
    "recvMsgDict = { str: list }\n",
    "sendMsgDict = { str: list }\n",
    "\n",
    "RECV_MSG_PREFIX = 'Recv msg'\n",
    "SEND_MSG_PREFIX = 'Send msg'\n",
    "\n",
    "pattern = r'>>([a-z|A-Z]{4} msg) \\[ \\d{2}\\]: (.*) :: (.*)'\n",
    "cnt = 0\n",
    "for line in fileLine:\n",
    "    msg = re.findall(pattern=pattern, string=line)\n",
    "    if len(msg) != 0:\n",
    "        msgPrefix, msgHead, msgTail = msg[0]\n",
    "        if msgPrefix == RECV_MSG_PREFIX:\n",
    "            recvMsgDict[RECV_MSG_PREFIX + f' {cnt}'] = [ msgHead, msgTail ]\n",
    "        elif msgPrefix == SEND_MSG_PREFIX:\n",
    "            sendMsgDict[SEND_MSG_PREFIX + f' {cnt}'] = [ msgHead, msgTail ]\n",
    "        else:\n",
    "            exit(-1)\n",
    "    cnt += 1\n",
    "\n",
    "recvMsgDict, sendMsgDict"
   ]
  },
  {
   "cell_type": "code",
   "execution_count": 62,
   "metadata": {},
   "outputs": [
    {
     "data": {
      "text/plain": [
       "['01 00 4B 10 02 02 04 9A', '12 34 56 78 90']"
      ]
     },
     "execution_count": 62,
     "metadata": {},
     "output_type": "execute_result"
    }
   ],
   "source": [
    "msgNo = 1\n",
    "recvMsgItem = recvMsgDict[RECV_MSG_PREFIX + f' {msgNo}']\n",
    "recvMsgItem"
   ]
  },
  {
   "cell_type": "code",
   "execution_count": 63,
   "metadata": {},
   "outputs": [
    {
     "data": {
      "text/plain": [
       "1"
      ]
     },
     "execution_count": 63,
     "metadata": {},
     "output_type": "execute_result"
    }
   ],
   "source": [
    "pattern = r'[\\d|A-F|a-f]{2}'\n",
    "splitMsgList = re.findall(pattern=pattern, string=recvMsgItem[0])\n",
    "srcModuleId = [ splitMsgList[0], splitMsgList[1] ]\n",
    "srcModuleId.reverse()\n",
    "eval('0x' + ''.join(srcModuleId))"
   ]
  },
  {
   "cell_type": "code",
   "execution_count": 64,
   "metadata": {},
   "outputs": [
    {
     "data": {
      "text/plain": [
       "4171"
      ]
     },
     "execution_count": 64,
     "metadata": {},
     "output_type": "execute_result"
    }
   ],
   "source": [
    "destModuleId = [ splitMsgList[2], splitMsgList[3] ]\n",
    "destModuleId.reverse()\n",
    "eval('0x' + ''.join(destModuleId))"
   ]
  },
  {
   "cell_type": "code",
   "execution_count": null,
   "metadata": {},
   "outputs": [],
   "source": []
  }
 ],
 "metadata": {
  "kernelspec": {
   "display_name": "normal",
   "language": "python",
   "name": "python3"
  },
  "language_info": {
   "codemirror_mode": {
    "name": "ipython",
    "version": 3
   },
   "file_extension": ".py",
   "mimetype": "text/x-python",
   "name": "python",
   "nbconvert_exporter": "python",
   "pygments_lexer": "ipython3",
   "version": "3.10.14"
  }
 },
 "nbformat": 4,
 "nbformat_minor": 2
}
